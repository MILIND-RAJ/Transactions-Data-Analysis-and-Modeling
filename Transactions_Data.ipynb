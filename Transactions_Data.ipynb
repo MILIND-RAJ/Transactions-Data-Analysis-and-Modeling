{
  "nbformat": 4,
  "nbformat_minor": 0,
  "metadata": {
    "colab": {
      "provenance": [],
      "collapsed_sections": []
    },
    "kernelspec": {
      "name": "python3",
      "display_name": "Python 3"
    },
    "language_info": {
      "name": "python"
    },
    "accelerator": "GPU"
  },
  "cells": [
    {
      "cell_type": "markdown",
      "source": [
        "#1. Loading the Data"
      ],
      "metadata": {
        "id": "X8zus1aMa2SX"
      }
    },
    {
      "cell_type": "markdown",
      "source": [
        "Importing the required libraries"
      ],
      "metadata": {
        "id": "A93hPS4-j-zX"
      }
    },
    {
      "cell_type": "code",
      "source": [
        "import pandas as pd\n",
        "import json\n",
        "import numpy as np\n",
        "import seaborn as sns\n",
        "import matplotlib.pyplot as plt\n",
        "from sklearn.preprocessing import LabelEncoder\n",
        "from sklearn.model_selection import train_test_split\n",
        "from sklearn.linear_model import LogisticRegression\n",
        "from sklearn.metrics import classification_report, confusion_matrix\n",
        "from sklearn.ensemble import RandomForestClassifier"
      ],
      "metadata": {
        "id": "mY8stD3acS2q"
      },
      "execution_count": null,
      "outputs": []
    },
    {
      "cell_type": "markdown",
      "source": [
        "Loading the Dataset"
      ],
      "metadata": {
        "id": "jg4sysJukMeU"
      }
    },
    {
      "cell_type": "code",
      "source": [
        "with open(\"/content/transactions.txt\") as f:\n",
        "  data=f.read()"
      ],
      "metadata": {
        "id": "ZWm4IwMSZ35I"
      },
      "execution_count": null,
      "outputs": []
    },
    {
      "cell_type": "code",
      "source": [
        "out_file = open(\"data.json\", \"w\")\n",
        "json.dump(data, out_file)\n",
        "out_file.close()"
      ],
      "metadata": {
        "id": "MkGqwue7f7TC"
      },
      "execution_count": null,
      "outputs": []
    },
    {
      "cell_type": "code",
      "source": [
        "f = open('/content/data.json')\n",
        "data = json.load(f)"
      ],
      "metadata": {
        "id": "kT2zfE-4hWcL"
      },
      "execution_count": null,
      "outputs": []
    },
    {
      "cell_type": "code",
      "source": [
        "df = pd.read_json(data, lines=True)"
      ],
      "metadata": {
        "id": "tw8oVvbyX_zG"
      },
      "execution_count": null,
      "outputs": []
    },
    {
      "cell_type": "markdown",
      "source": [
        "Taking a Glimpse of Data"
      ],
      "metadata": {
        "id": "to6VostikQ6c"
      }
    },
    {
      "cell_type": "code",
      "source": [
        "df.head()"
      ],
      "metadata": {
        "colab": {
          "base_uri": "https://localhost:8080/",
          "height": 317
        },
        "id": "4hE3mdIeZqmw",
        "outputId": "55180a80-f2fe-4b0a-8790-7e1febaa4b0f"
      },
      "execution_count": null,
      "outputs": [
        {
          "output_type": "execute_result",
          "data": {
            "text/plain": [
              "   accountNumber  customerId  creditLimit  availableMoney  \\\n",
              "0      737265056   737265056         5000          5000.0   \n",
              "1      737265056   737265056         5000          5000.0   \n",
              "2      737265056   737265056         5000          5000.0   \n",
              "3      737265056   737265056         5000          5000.0   \n",
              "4      830329091   830329091         5000          5000.0   \n",
              "\n",
              "   transactionDateTime  transactionAmount         merchantName acqCountry  \\\n",
              "0  2016-08-13T14:27:32              98.55                 Uber         US   \n",
              "1  2016-10-11T05:05:54              74.51          AMC #191138         US   \n",
              "2  2016-11-08T09:18:39               7.47           Play Store         US   \n",
              "3  2016-12-10T02:14:50               7.47           Play Store         US   \n",
              "4  2016-03-24T21:04:46              71.18  Tim Hortons #947751         US   \n",
              "\n",
              "  merchantCountryCode posEntryMode  ... echoBuffer currentBalance  \\\n",
              "0                  US           02  ...                       0.0   \n",
              "1                  US           09  ...                       0.0   \n",
              "2                  US           09  ...                       0.0   \n",
              "3                  US           09  ...                       0.0   \n",
              "4                  US           02  ...                       0.0   \n",
              "\n",
              "  merchantCity merchantState merchantZip  cardPresent  posOnPremises  \\\n",
              "0                                               False                  \n",
              "1                                                True                  \n",
              "2                                               False                  \n",
              "3                                               False                  \n",
              "4                                                True                  \n",
              "\n",
              "   recurringAuthInd expirationDateKeyInMatch isFraud  \n",
              "0                                      False   False  \n",
              "1                                      False   False  \n",
              "2                                      False   False  \n",
              "3                                      False   False  \n",
              "4                                      False   False  \n",
              "\n",
              "[5 rows x 29 columns]"
            ],
            "text/html": [
              "\n",
              "  <div id=\"df-b27f0fb0-a586-44bf-800c-d8de8113bc8d\">\n",
              "    <div class=\"colab-df-container\">\n",
              "      <div>\n",
              "<style scoped>\n",
              "    .dataframe tbody tr th:only-of-type {\n",
              "        vertical-align: middle;\n",
              "    }\n",
              "\n",
              "    .dataframe tbody tr th {\n",
              "        vertical-align: top;\n",
              "    }\n",
              "\n",
              "    .dataframe thead th {\n",
              "        text-align: right;\n",
              "    }\n",
              "</style>\n",
              "<table border=\"1\" class=\"dataframe\">\n",
              "  <thead>\n",
              "    <tr style=\"text-align: right;\">\n",
              "      <th></th>\n",
              "      <th>accountNumber</th>\n",
              "      <th>customerId</th>\n",
              "      <th>creditLimit</th>\n",
              "      <th>availableMoney</th>\n",
              "      <th>transactionDateTime</th>\n",
              "      <th>transactionAmount</th>\n",
              "      <th>merchantName</th>\n",
              "      <th>acqCountry</th>\n",
              "      <th>merchantCountryCode</th>\n",
              "      <th>posEntryMode</th>\n",
              "      <th>...</th>\n",
              "      <th>echoBuffer</th>\n",
              "      <th>currentBalance</th>\n",
              "      <th>merchantCity</th>\n",
              "      <th>merchantState</th>\n",
              "      <th>merchantZip</th>\n",
              "      <th>cardPresent</th>\n",
              "      <th>posOnPremises</th>\n",
              "      <th>recurringAuthInd</th>\n",
              "      <th>expirationDateKeyInMatch</th>\n",
              "      <th>isFraud</th>\n",
              "    </tr>\n",
              "  </thead>\n",
              "  <tbody>\n",
              "    <tr>\n",
              "      <th>0</th>\n",
              "      <td>737265056</td>\n",
              "      <td>737265056</td>\n",
              "      <td>5000</td>\n",
              "      <td>5000.0</td>\n",
              "      <td>2016-08-13T14:27:32</td>\n",
              "      <td>98.55</td>\n",
              "      <td>Uber</td>\n",
              "      <td>US</td>\n",
              "      <td>US</td>\n",
              "      <td>02</td>\n",
              "      <td>...</td>\n",
              "      <td></td>\n",
              "      <td>0.0</td>\n",
              "      <td></td>\n",
              "      <td></td>\n",
              "      <td></td>\n",
              "      <td>False</td>\n",
              "      <td></td>\n",
              "      <td></td>\n",
              "      <td>False</td>\n",
              "      <td>False</td>\n",
              "    </tr>\n",
              "    <tr>\n",
              "      <th>1</th>\n",
              "      <td>737265056</td>\n",
              "      <td>737265056</td>\n",
              "      <td>5000</td>\n",
              "      <td>5000.0</td>\n",
              "      <td>2016-10-11T05:05:54</td>\n",
              "      <td>74.51</td>\n",
              "      <td>AMC #191138</td>\n",
              "      <td>US</td>\n",
              "      <td>US</td>\n",
              "      <td>09</td>\n",
              "      <td>...</td>\n",
              "      <td></td>\n",
              "      <td>0.0</td>\n",
              "      <td></td>\n",
              "      <td></td>\n",
              "      <td></td>\n",
              "      <td>True</td>\n",
              "      <td></td>\n",
              "      <td></td>\n",
              "      <td>False</td>\n",
              "      <td>False</td>\n",
              "    </tr>\n",
              "    <tr>\n",
              "      <th>2</th>\n",
              "      <td>737265056</td>\n",
              "      <td>737265056</td>\n",
              "      <td>5000</td>\n",
              "      <td>5000.0</td>\n",
              "      <td>2016-11-08T09:18:39</td>\n",
              "      <td>7.47</td>\n",
              "      <td>Play Store</td>\n",
              "      <td>US</td>\n",
              "      <td>US</td>\n",
              "      <td>09</td>\n",
              "      <td>...</td>\n",
              "      <td></td>\n",
              "      <td>0.0</td>\n",
              "      <td></td>\n",
              "      <td></td>\n",
              "      <td></td>\n",
              "      <td>False</td>\n",
              "      <td></td>\n",
              "      <td></td>\n",
              "      <td>False</td>\n",
              "      <td>False</td>\n",
              "    </tr>\n",
              "    <tr>\n",
              "      <th>3</th>\n",
              "      <td>737265056</td>\n",
              "      <td>737265056</td>\n",
              "      <td>5000</td>\n",
              "      <td>5000.0</td>\n",
              "      <td>2016-12-10T02:14:50</td>\n",
              "      <td>7.47</td>\n",
              "      <td>Play Store</td>\n",
              "      <td>US</td>\n",
              "      <td>US</td>\n",
              "      <td>09</td>\n",
              "      <td>...</td>\n",
              "      <td></td>\n",
              "      <td>0.0</td>\n",
              "      <td></td>\n",
              "      <td></td>\n",
              "      <td></td>\n",
              "      <td>False</td>\n",
              "      <td></td>\n",
              "      <td></td>\n",
              "      <td>False</td>\n",
              "      <td>False</td>\n",
              "    </tr>\n",
              "    <tr>\n",
              "      <th>4</th>\n",
              "      <td>830329091</td>\n",
              "      <td>830329091</td>\n",
              "      <td>5000</td>\n",
              "      <td>5000.0</td>\n",
              "      <td>2016-03-24T21:04:46</td>\n",
              "      <td>71.18</td>\n",
              "      <td>Tim Hortons #947751</td>\n",
              "      <td>US</td>\n",
              "      <td>US</td>\n",
              "      <td>02</td>\n",
              "      <td>...</td>\n",
              "      <td></td>\n",
              "      <td>0.0</td>\n",
              "      <td></td>\n",
              "      <td></td>\n",
              "      <td></td>\n",
              "      <td>True</td>\n",
              "      <td></td>\n",
              "      <td></td>\n",
              "      <td>False</td>\n",
              "      <td>False</td>\n",
              "    </tr>\n",
              "  </tbody>\n",
              "</table>\n",
              "<p>5 rows × 29 columns</p>\n",
              "</div>\n",
              "      <button class=\"colab-df-convert\" onclick=\"convertToInteractive('df-b27f0fb0-a586-44bf-800c-d8de8113bc8d')\"\n",
              "              title=\"Convert this dataframe to an interactive table.\"\n",
              "              style=\"display:none;\">\n",
              "        \n",
              "  <svg xmlns=\"http://www.w3.org/2000/svg\" height=\"24px\"viewBox=\"0 0 24 24\"\n",
              "       width=\"24px\">\n",
              "    <path d=\"M0 0h24v24H0V0z\" fill=\"none\"/>\n",
              "    <path d=\"M18.56 5.44l.94 2.06.94-2.06 2.06-.94-2.06-.94-.94-2.06-.94 2.06-2.06.94zm-11 1L8.5 8.5l.94-2.06 2.06-.94-2.06-.94L8.5 2.5l-.94 2.06-2.06.94zm10 10l.94 2.06.94-2.06 2.06-.94-2.06-.94-.94-2.06-.94 2.06-2.06.94z\"/><path d=\"M17.41 7.96l-1.37-1.37c-.4-.4-.92-.59-1.43-.59-.52 0-1.04.2-1.43.59L10.3 9.45l-7.72 7.72c-.78.78-.78 2.05 0 2.83L4 21.41c.39.39.9.59 1.41.59.51 0 1.02-.2 1.41-.59l7.78-7.78 2.81-2.81c.8-.78.8-2.07 0-2.86zM5.41 20L4 18.59l7.72-7.72 1.47 1.35L5.41 20z\"/>\n",
              "  </svg>\n",
              "      </button>\n",
              "      \n",
              "  <style>\n",
              "    .colab-df-container {\n",
              "      display:flex;\n",
              "      flex-wrap:wrap;\n",
              "      gap: 12px;\n",
              "    }\n",
              "\n",
              "    .colab-df-convert {\n",
              "      background-color: #E8F0FE;\n",
              "      border: none;\n",
              "      border-radius: 50%;\n",
              "      cursor: pointer;\n",
              "      display: none;\n",
              "      fill: #1967D2;\n",
              "      height: 32px;\n",
              "      padding: 0 0 0 0;\n",
              "      width: 32px;\n",
              "    }\n",
              "\n",
              "    .colab-df-convert:hover {\n",
              "      background-color: #E2EBFA;\n",
              "      box-shadow: 0px 1px 2px rgba(60, 64, 67, 0.3), 0px 1px 3px 1px rgba(60, 64, 67, 0.15);\n",
              "      fill: #174EA6;\n",
              "    }\n",
              "\n",
              "    [theme=dark] .colab-df-convert {\n",
              "      background-color: #3B4455;\n",
              "      fill: #D2E3FC;\n",
              "    }\n",
              "\n",
              "    [theme=dark] .colab-df-convert:hover {\n",
              "      background-color: #434B5C;\n",
              "      box-shadow: 0px 1px 3px 1px rgba(0, 0, 0, 0.15);\n",
              "      filter: drop-shadow(0px 1px 2px rgba(0, 0, 0, 0.3));\n",
              "      fill: #FFFFFF;\n",
              "    }\n",
              "  </style>\n",
              "\n",
              "      <script>\n",
              "        const buttonEl =\n",
              "          document.querySelector('#df-b27f0fb0-a586-44bf-800c-d8de8113bc8d button.colab-df-convert');\n",
              "        buttonEl.style.display =\n",
              "          google.colab.kernel.accessAllowed ? 'block' : 'none';\n",
              "\n",
              "        async function convertToInteractive(key) {\n",
              "          const element = document.querySelector('#df-b27f0fb0-a586-44bf-800c-d8de8113bc8d');\n",
              "          const dataTable =\n",
              "            await google.colab.kernel.invokeFunction('convertToInteractive',\n",
              "                                                     [key], {});\n",
              "          if (!dataTable) return;\n",
              "\n",
              "          const docLinkHtml = 'Like what you see? Visit the ' +\n",
              "            '<a target=\"_blank\" href=https://colab.research.google.com/notebooks/data_table.ipynb>data table notebook</a>'\n",
              "            + ' to learn more about interactive tables.';\n",
              "          element.innerHTML = '';\n",
              "          dataTable['output_type'] = 'display_data';\n",
              "          await google.colab.output.renderOutput(dataTable, element);\n",
              "          const docLink = document.createElement('div');\n",
              "          docLink.innerHTML = docLinkHtml;\n",
              "          element.appendChild(docLink);\n",
              "        }\n",
              "      </script>\n",
              "    </div>\n",
              "  </div>\n",
              "  "
            ]
          },
          "metadata": {},
          "execution_count": 7
        }
      ]
    },
    {
      "cell_type": "markdown",
      "source": [
        "Structure of Data"
      ],
      "metadata": {
        "id": "XuexlcbukeW3"
      }
    },
    {
      "cell_type": "code",
      "source": [
        "rows, columns = df.shape\n",
        "print(\"Data contains {} rows and {} columns\".format(rows,columns))"
      ],
      "metadata": {
        "colab": {
          "base_uri": "https://localhost:8080/"
        },
        "id": "2f6jpn2uc7hZ",
        "outputId": "14c355ab-e059-482b-d1a8-856336dbb434"
      },
      "execution_count": null,
      "outputs": [
        {
          "output_type": "stream",
          "name": "stdout",
          "text": [
            "Data contains 786363 rows and 29 columns\n"
          ]
        }
      ]
    },
    {
      "cell_type": "markdown",
      "source": [
        "Data Summary"
      ],
      "metadata": {
        "id": "LhovNul_pGnI"
      }
    },
    {
      "cell_type": "code",
      "source": [
        "data_summary = df.describe()\n",
        "data_summary = data_summary[['creditLimit', 'availableMoney', 'transactionAmount', 'currentBalance']]\n",
        "data_summary"
      ],
      "metadata": {
        "colab": {
          "base_uri": "https://localhost:8080/",
          "height": 300
        },
        "id": "JsG-WXuzkceQ",
        "outputId": "8d409448-3883-474a-b82d-cf9ea82027ee"
      },
      "execution_count": null,
      "outputs": [
        {
          "output_type": "execute_result",
          "data": {
            "text/plain": [
              "         creditLimit  availableMoney  transactionAmount  currentBalance\n",
              "count  786363.000000   786363.000000      786363.000000   786363.000000\n",
              "mean    10759.464459     6250.725369         136.985791     4508.739089\n",
              "std     11636.174890     8880.783989         147.725569     6457.442068\n",
              "min       250.000000    -1005.630000           0.000000        0.000000\n",
              "25%      5000.000000     1077.420000          33.650000      689.910000\n",
              "50%      7500.000000     3184.860000          87.900000     2451.760000\n",
              "75%     15000.000000     7500.000000         191.480000     5291.095000\n",
              "max     50000.000000    50000.000000        2011.540000    47498.810000"
            ],
            "text/html": [
              "\n",
              "  <div id=\"df-f5430ec6-d40d-40f3-8af9-6ddefc176458\">\n",
              "    <div class=\"colab-df-container\">\n",
              "      <div>\n",
              "<style scoped>\n",
              "    .dataframe tbody tr th:only-of-type {\n",
              "        vertical-align: middle;\n",
              "    }\n",
              "\n",
              "    .dataframe tbody tr th {\n",
              "        vertical-align: top;\n",
              "    }\n",
              "\n",
              "    .dataframe thead th {\n",
              "        text-align: right;\n",
              "    }\n",
              "</style>\n",
              "<table border=\"1\" class=\"dataframe\">\n",
              "  <thead>\n",
              "    <tr style=\"text-align: right;\">\n",
              "      <th></th>\n",
              "      <th>creditLimit</th>\n",
              "      <th>availableMoney</th>\n",
              "      <th>transactionAmount</th>\n",
              "      <th>currentBalance</th>\n",
              "    </tr>\n",
              "  </thead>\n",
              "  <tbody>\n",
              "    <tr>\n",
              "      <th>count</th>\n",
              "      <td>786363.000000</td>\n",
              "      <td>786363.000000</td>\n",
              "      <td>786363.000000</td>\n",
              "      <td>786363.000000</td>\n",
              "    </tr>\n",
              "    <tr>\n",
              "      <th>mean</th>\n",
              "      <td>10759.464459</td>\n",
              "      <td>6250.725369</td>\n",
              "      <td>136.985791</td>\n",
              "      <td>4508.739089</td>\n",
              "    </tr>\n",
              "    <tr>\n",
              "      <th>std</th>\n",
              "      <td>11636.174890</td>\n",
              "      <td>8880.783989</td>\n",
              "      <td>147.725569</td>\n",
              "      <td>6457.442068</td>\n",
              "    </tr>\n",
              "    <tr>\n",
              "      <th>min</th>\n",
              "      <td>250.000000</td>\n",
              "      <td>-1005.630000</td>\n",
              "      <td>0.000000</td>\n",
              "      <td>0.000000</td>\n",
              "    </tr>\n",
              "    <tr>\n",
              "      <th>25%</th>\n",
              "      <td>5000.000000</td>\n",
              "      <td>1077.420000</td>\n",
              "      <td>33.650000</td>\n",
              "      <td>689.910000</td>\n",
              "    </tr>\n",
              "    <tr>\n",
              "      <th>50%</th>\n",
              "      <td>7500.000000</td>\n",
              "      <td>3184.860000</td>\n",
              "      <td>87.900000</td>\n",
              "      <td>2451.760000</td>\n",
              "    </tr>\n",
              "    <tr>\n",
              "      <th>75%</th>\n",
              "      <td>15000.000000</td>\n",
              "      <td>7500.000000</td>\n",
              "      <td>191.480000</td>\n",
              "      <td>5291.095000</td>\n",
              "    </tr>\n",
              "    <tr>\n",
              "      <th>max</th>\n",
              "      <td>50000.000000</td>\n",
              "      <td>50000.000000</td>\n",
              "      <td>2011.540000</td>\n",
              "      <td>47498.810000</td>\n",
              "    </tr>\n",
              "  </tbody>\n",
              "</table>\n",
              "</div>\n",
              "      <button class=\"colab-df-convert\" onclick=\"convertToInteractive('df-f5430ec6-d40d-40f3-8af9-6ddefc176458')\"\n",
              "              title=\"Convert this dataframe to an interactive table.\"\n",
              "              style=\"display:none;\">\n",
              "        \n",
              "  <svg xmlns=\"http://www.w3.org/2000/svg\" height=\"24px\"viewBox=\"0 0 24 24\"\n",
              "       width=\"24px\">\n",
              "    <path d=\"M0 0h24v24H0V0z\" fill=\"none\"/>\n",
              "    <path d=\"M18.56 5.44l.94 2.06.94-2.06 2.06-.94-2.06-.94-.94-2.06-.94 2.06-2.06.94zm-11 1L8.5 8.5l.94-2.06 2.06-.94-2.06-.94L8.5 2.5l-.94 2.06-2.06.94zm10 10l.94 2.06.94-2.06 2.06-.94-2.06-.94-.94-2.06-.94 2.06-2.06.94z\"/><path d=\"M17.41 7.96l-1.37-1.37c-.4-.4-.92-.59-1.43-.59-.52 0-1.04.2-1.43.59L10.3 9.45l-7.72 7.72c-.78.78-.78 2.05 0 2.83L4 21.41c.39.39.9.59 1.41.59.51 0 1.02-.2 1.41-.59l7.78-7.78 2.81-2.81c.8-.78.8-2.07 0-2.86zM5.41 20L4 18.59l7.72-7.72 1.47 1.35L5.41 20z\"/>\n",
              "  </svg>\n",
              "      </button>\n",
              "      \n",
              "  <style>\n",
              "    .colab-df-container {\n",
              "      display:flex;\n",
              "      flex-wrap:wrap;\n",
              "      gap: 12px;\n",
              "    }\n",
              "\n",
              "    .colab-df-convert {\n",
              "      background-color: #E8F0FE;\n",
              "      border: none;\n",
              "      border-radius: 50%;\n",
              "      cursor: pointer;\n",
              "      display: none;\n",
              "      fill: #1967D2;\n",
              "      height: 32px;\n",
              "      padding: 0 0 0 0;\n",
              "      width: 32px;\n",
              "    }\n",
              "\n",
              "    .colab-df-convert:hover {\n",
              "      background-color: #E2EBFA;\n",
              "      box-shadow: 0px 1px 2px rgba(60, 64, 67, 0.3), 0px 1px 3px 1px rgba(60, 64, 67, 0.15);\n",
              "      fill: #174EA6;\n",
              "    }\n",
              "\n",
              "    [theme=dark] .colab-df-convert {\n",
              "      background-color: #3B4455;\n",
              "      fill: #D2E3FC;\n",
              "    }\n",
              "\n",
              "    [theme=dark] .colab-df-convert:hover {\n",
              "      background-color: #434B5C;\n",
              "      box-shadow: 0px 1px 3px 1px rgba(0, 0, 0, 0.15);\n",
              "      filter: drop-shadow(0px 1px 2px rgba(0, 0, 0, 0.3));\n",
              "      fill: #FFFFFF;\n",
              "    }\n",
              "  </style>\n",
              "\n",
              "      <script>\n",
              "        const buttonEl =\n",
              "          document.querySelector('#df-f5430ec6-d40d-40f3-8af9-6ddefc176458 button.colab-df-convert');\n",
              "        buttonEl.style.display =\n",
              "          google.colab.kernel.accessAllowed ? 'block' : 'none';\n",
              "\n",
              "        async function convertToInteractive(key) {\n",
              "          const element = document.querySelector('#df-f5430ec6-d40d-40f3-8af9-6ddefc176458');\n",
              "          const dataTable =\n",
              "            await google.colab.kernel.invokeFunction('convertToInteractive',\n",
              "                                                     [key], {});\n",
              "          if (!dataTable) return;\n",
              "\n",
              "          const docLinkHtml = 'Like what you see? Visit the ' +\n",
              "            '<a target=\"_blank\" href=https://colab.research.google.com/notebooks/data_table.ipynb>data table notebook</a>'\n",
              "            + ' to learn more about interactive tables.';\n",
              "          element.innerHTML = '';\n",
              "          dataTable['output_type'] = 'display_data';\n",
              "          await google.colab.output.renderOutput(dataTable, element);\n",
              "          const docLink = document.createElement('div');\n",
              "          docLink.innerHTML = docLinkHtml;\n",
              "          element.appendChild(docLink);\n",
              "        }\n",
              "      </script>\n",
              "    </div>\n",
              "  </div>\n",
              "  "
            ]
          },
          "metadata": {},
          "execution_count": 32
        }
      ]
    },
    {
      "cell_type": "code",
      "source": [
        "df = df.replace(r'^\\s*$', np.nan, regex=True)"
      ],
      "metadata": {
        "id": "14bXnmsfp5YS"
      },
      "execution_count": null,
      "outputs": []
    },
    {
      "cell_type": "markdown",
      "source": [
        "Finding number and percentage of null values in each field"
      ],
      "metadata": {
        "id": "87EAwWGTpgvk"
      }
    },
    {
      "cell_type": "code",
      "source": [
        "null_values_data = df.isnull().sum()\n",
        "null_percentage_data = df.isnull().sum()/len(df)*100"
      ],
      "metadata": {
        "id": "Qc9XcvqhnyY1"
      },
      "execution_count": null,
      "outputs": []
    },
    {
      "cell_type": "code",
      "source": [
        "pd.DataFrame(null_values_data, columns=['Number of Null Values'])"
      ],
      "metadata": {
        "colab": {
          "base_uri": "https://localhost:8080/",
          "height": 959
        },
        "id": "zOgWFYamsVwy",
        "outputId": "afcefd82-e90d-4444-a761-962cb0cbe295"
      },
      "execution_count": null,
      "outputs": [
        {
          "output_type": "execute_result",
          "data": {
            "text/plain": [
              "                          Number of Null Values\n",
              "accountNumber                                 0\n",
              "customerId                                    0\n",
              "creditLimit                                   0\n",
              "availableMoney                                0\n",
              "transactionDateTime                           0\n",
              "transactionAmount                             0\n",
              "merchantName                                  0\n",
              "acqCountry                                 4562\n",
              "merchantCountryCode                         724\n",
              "posEntryMode                               4054\n",
              "posConditionCode                            409\n",
              "merchantCategoryCode                          0\n",
              "currentExpDate                                0\n",
              "accountOpenDate                               0\n",
              "dateOfLastAddressChange                       0\n",
              "cardCVV                                       0\n",
              "enteredCVV                                    0\n",
              "cardLast4Digits                               0\n",
              "transactionType                             698\n",
              "echoBuffer                               786363\n",
              "currentBalance                                0\n",
              "merchantCity                             786363\n",
              "merchantState                            786363\n",
              "merchantZip                              786363\n",
              "cardPresent                                   0\n",
              "posOnPremises                            786363\n",
              "recurringAuthInd                         786363\n",
              "expirationDateKeyInMatch                      0\n",
              "isFraud                                       0"
            ],
            "text/html": [
              "\n",
              "  <div id=\"df-0e0d4638-435d-41f1-8455-88bb6b28b2b8\">\n",
              "    <div class=\"colab-df-container\">\n",
              "      <div>\n",
              "<style scoped>\n",
              "    .dataframe tbody tr th:only-of-type {\n",
              "        vertical-align: middle;\n",
              "    }\n",
              "\n",
              "    .dataframe tbody tr th {\n",
              "        vertical-align: top;\n",
              "    }\n",
              "\n",
              "    .dataframe thead th {\n",
              "        text-align: right;\n",
              "    }\n",
              "</style>\n",
              "<table border=\"1\" class=\"dataframe\">\n",
              "  <thead>\n",
              "    <tr style=\"text-align: right;\">\n",
              "      <th></th>\n",
              "      <th>Number of Null Values</th>\n",
              "    </tr>\n",
              "  </thead>\n",
              "  <tbody>\n",
              "    <tr>\n",
              "      <th>accountNumber</th>\n",
              "      <td>0</td>\n",
              "    </tr>\n",
              "    <tr>\n",
              "      <th>customerId</th>\n",
              "      <td>0</td>\n",
              "    </tr>\n",
              "    <tr>\n",
              "      <th>creditLimit</th>\n",
              "      <td>0</td>\n",
              "    </tr>\n",
              "    <tr>\n",
              "      <th>availableMoney</th>\n",
              "      <td>0</td>\n",
              "    </tr>\n",
              "    <tr>\n",
              "      <th>transactionDateTime</th>\n",
              "      <td>0</td>\n",
              "    </tr>\n",
              "    <tr>\n",
              "      <th>transactionAmount</th>\n",
              "      <td>0</td>\n",
              "    </tr>\n",
              "    <tr>\n",
              "      <th>merchantName</th>\n",
              "      <td>0</td>\n",
              "    </tr>\n",
              "    <tr>\n",
              "      <th>acqCountry</th>\n",
              "      <td>4562</td>\n",
              "    </tr>\n",
              "    <tr>\n",
              "      <th>merchantCountryCode</th>\n",
              "      <td>724</td>\n",
              "    </tr>\n",
              "    <tr>\n",
              "      <th>posEntryMode</th>\n",
              "      <td>4054</td>\n",
              "    </tr>\n",
              "    <tr>\n",
              "      <th>posConditionCode</th>\n",
              "      <td>409</td>\n",
              "    </tr>\n",
              "    <tr>\n",
              "      <th>merchantCategoryCode</th>\n",
              "      <td>0</td>\n",
              "    </tr>\n",
              "    <tr>\n",
              "      <th>currentExpDate</th>\n",
              "      <td>0</td>\n",
              "    </tr>\n",
              "    <tr>\n",
              "      <th>accountOpenDate</th>\n",
              "      <td>0</td>\n",
              "    </tr>\n",
              "    <tr>\n",
              "      <th>dateOfLastAddressChange</th>\n",
              "      <td>0</td>\n",
              "    </tr>\n",
              "    <tr>\n",
              "      <th>cardCVV</th>\n",
              "      <td>0</td>\n",
              "    </tr>\n",
              "    <tr>\n",
              "      <th>enteredCVV</th>\n",
              "      <td>0</td>\n",
              "    </tr>\n",
              "    <tr>\n",
              "      <th>cardLast4Digits</th>\n",
              "      <td>0</td>\n",
              "    </tr>\n",
              "    <tr>\n",
              "      <th>transactionType</th>\n",
              "      <td>698</td>\n",
              "    </tr>\n",
              "    <tr>\n",
              "      <th>echoBuffer</th>\n",
              "      <td>786363</td>\n",
              "    </tr>\n",
              "    <tr>\n",
              "      <th>currentBalance</th>\n",
              "      <td>0</td>\n",
              "    </tr>\n",
              "    <tr>\n",
              "      <th>merchantCity</th>\n",
              "      <td>786363</td>\n",
              "    </tr>\n",
              "    <tr>\n",
              "      <th>merchantState</th>\n",
              "      <td>786363</td>\n",
              "    </tr>\n",
              "    <tr>\n",
              "      <th>merchantZip</th>\n",
              "      <td>786363</td>\n",
              "    </tr>\n",
              "    <tr>\n",
              "      <th>cardPresent</th>\n",
              "      <td>0</td>\n",
              "    </tr>\n",
              "    <tr>\n",
              "      <th>posOnPremises</th>\n",
              "      <td>786363</td>\n",
              "    </tr>\n",
              "    <tr>\n",
              "      <th>recurringAuthInd</th>\n",
              "      <td>786363</td>\n",
              "    </tr>\n",
              "    <tr>\n",
              "      <th>expirationDateKeyInMatch</th>\n",
              "      <td>0</td>\n",
              "    </tr>\n",
              "    <tr>\n",
              "      <th>isFraud</th>\n",
              "      <td>0</td>\n",
              "    </tr>\n",
              "  </tbody>\n",
              "</table>\n",
              "</div>\n",
              "      <button class=\"colab-df-convert\" onclick=\"convertToInteractive('df-0e0d4638-435d-41f1-8455-88bb6b28b2b8')\"\n",
              "              title=\"Convert this dataframe to an interactive table.\"\n",
              "              style=\"display:none;\">\n",
              "        \n",
              "  <svg xmlns=\"http://www.w3.org/2000/svg\" height=\"24px\"viewBox=\"0 0 24 24\"\n",
              "       width=\"24px\">\n",
              "    <path d=\"M0 0h24v24H0V0z\" fill=\"none\"/>\n",
              "    <path d=\"M18.56 5.44l.94 2.06.94-2.06 2.06-.94-2.06-.94-.94-2.06-.94 2.06-2.06.94zm-11 1L8.5 8.5l.94-2.06 2.06-.94-2.06-.94L8.5 2.5l-.94 2.06-2.06.94zm10 10l.94 2.06.94-2.06 2.06-.94-2.06-.94-.94-2.06-.94 2.06-2.06.94z\"/><path d=\"M17.41 7.96l-1.37-1.37c-.4-.4-.92-.59-1.43-.59-.52 0-1.04.2-1.43.59L10.3 9.45l-7.72 7.72c-.78.78-.78 2.05 0 2.83L4 21.41c.39.39.9.59 1.41.59.51 0 1.02-.2 1.41-.59l7.78-7.78 2.81-2.81c.8-.78.8-2.07 0-2.86zM5.41 20L4 18.59l7.72-7.72 1.47 1.35L5.41 20z\"/>\n",
              "  </svg>\n",
              "      </button>\n",
              "      \n",
              "  <style>\n",
              "    .colab-df-container {\n",
              "      display:flex;\n",
              "      flex-wrap:wrap;\n",
              "      gap: 12px;\n",
              "    }\n",
              "\n",
              "    .colab-df-convert {\n",
              "      background-color: #E8F0FE;\n",
              "      border: none;\n",
              "      border-radius: 50%;\n",
              "      cursor: pointer;\n",
              "      display: none;\n",
              "      fill: #1967D2;\n",
              "      height: 32px;\n",
              "      padding: 0 0 0 0;\n",
              "      width: 32px;\n",
              "    }\n",
              "\n",
              "    .colab-df-convert:hover {\n",
              "      background-color: #E2EBFA;\n",
              "      box-shadow: 0px 1px 2px rgba(60, 64, 67, 0.3), 0px 1px 3px 1px rgba(60, 64, 67, 0.15);\n",
              "      fill: #174EA6;\n",
              "    }\n",
              "\n",
              "    [theme=dark] .colab-df-convert {\n",
              "      background-color: #3B4455;\n",
              "      fill: #D2E3FC;\n",
              "    }\n",
              "\n",
              "    [theme=dark] .colab-df-convert:hover {\n",
              "      background-color: #434B5C;\n",
              "      box-shadow: 0px 1px 3px 1px rgba(0, 0, 0, 0.15);\n",
              "      filter: drop-shadow(0px 1px 2px rgba(0, 0, 0, 0.3));\n",
              "      fill: #FFFFFF;\n",
              "    }\n",
              "  </style>\n",
              "\n",
              "      <script>\n",
              "        const buttonEl =\n",
              "          document.querySelector('#df-0e0d4638-435d-41f1-8455-88bb6b28b2b8 button.colab-df-convert');\n",
              "        buttonEl.style.display =\n",
              "          google.colab.kernel.accessAllowed ? 'block' : 'none';\n",
              "\n",
              "        async function convertToInteractive(key) {\n",
              "          const element = document.querySelector('#df-0e0d4638-435d-41f1-8455-88bb6b28b2b8');\n",
              "          const dataTable =\n",
              "            await google.colab.kernel.invokeFunction('convertToInteractive',\n",
              "                                                     [key], {});\n",
              "          if (!dataTable) return;\n",
              "\n",
              "          const docLinkHtml = 'Like what you see? Visit the ' +\n",
              "            '<a target=\"_blank\" href=https://colab.research.google.com/notebooks/data_table.ipynb>data table notebook</a>'\n",
              "            + ' to learn more about interactive tables.';\n",
              "          element.innerHTML = '';\n",
              "          dataTable['output_type'] = 'display_data';\n",
              "          await google.colab.output.renderOutput(dataTable, element);\n",
              "          const docLink = document.createElement('div');\n",
              "          docLink.innerHTML = docLinkHtml;\n",
              "          element.appendChild(docLink);\n",
              "        }\n",
              "      </script>\n",
              "    </div>\n",
              "  </div>\n",
              "  "
            ]
          },
          "metadata": {},
          "execution_count": 54
        }
      ]
    },
    {
      "cell_type": "code",
      "source": [
        "pd.DataFrame(null_percentage_data, columns=['Percentage of Null Values'])"
      ],
      "metadata": {
        "colab": {
          "base_uri": "https://localhost:8080/",
          "height": 959
        },
        "id": "mssji9lUpPP-",
        "outputId": "5dff9b6a-69a7-4ae2-f691-3f61b121fcfa"
      },
      "execution_count": null,
      "outputs": [
        {
          "output_type": "execute_result",
          "data": {
            "text/plain": [
              "                          Percentage of Null Values\n",
              "accountNumber                              0.000000\n",
              "customerId                                 0.000000\n",
              "creditLimit                                0.000000\n",
              "availableMoney                             0.000000\n",
              "transactionDateTime                        0.000000\n",
              "transactionAmount                          0.000000\n",
              "merchantName                               0.000000\n",
              "acqCountry                                 0.580139\n",
              "merchantCountryCode                        0.092069\n",
              "posEntryMode                               0.515538\n",
              "posConditionCode                           0.052012\n",
              "merchantCategoryCode                       0.000000\n",
              "currentExpDate                             0.000000\n",
              "accountOpenDate                            0.000000\n",
              "dateOfLastAddressChange                    0.000000\n",
              "cardCVV                                    0.000000\n",
              "enteredCVV                                 0.000000\n",
              "cardLast4Digits                            0.000000\n",
              "transactionType                            0.088763\n",
              "echoBuffer                               100.000000\n",
              "currentBalance                             0.000000\n",
              "merchantCity                             100.000000\n",
              "merchantState                            100.000000\n",
              "merchantZip                              100.000000\n",
              "cardPresent                                0.000000\n",
              "posOnPremises                            100.000000\n",
              "recurringAuthInd                         100.000000\n",
              "expirationDateKeyInMatch                   0.000000\n",
              "isFraud                                    0.000000"
            ],
            "text/html": [
              "\n",
              "  <div id=\"df-343de3ca-0149-446f-82a5-092193643918\">\n",
              "    <div class=\"colab-df-container\">\n",
              "      <div>\n",
              "<style scoped>\n",
              "    .dataframe tbody tr th:only-of-type {\n",
              "        vertical-align: middle;\n",
              "    }\n",
              "\n",
              "    .dataframe tbody tr th {\n",
              "        vertical-align: top;\n",
              "    }\n",
              "\n",
              "    .dataframe thead th {\n",
              "        text-align: right;\n",
              "    }\n",
              "</style>\n",
              "<table border=\"1\" class=\"dataframe\">\n",
              "  <thead>\n",
              "    <tr style=\"text-align: right;\">\n",
              "      <th></th>\n",
              "      <th>Percentage of Null Values</th>\n",
              "    </tr>\n",
              "  </thead>\n",
              "  <tbody>\n",
              "    <tr>\n",
              "      <th>accountNumber</th>\n",
              "      <td>0.000000</td>\n",
              "    </tr>\n",
              "    <tr>\n",
              "      <th>customerId</th>\n",
              "      <td>0.000000</td>\n",
              "    </tr>\n",
              "    <tr>\n",
              "      <th>creditLimit</th>\n",
              "      <td>0.000000</td>\n",
              "    </tr>\n",
              "    <tr>\n",
              "      <th>availableMoney</th>\n",
              "      <td>0.000000</td>\n",
              "    </tr>\n",
              "    <tr>\n",
              "      <th>transactionDateTime</th>\n",
              "      <td>0.000000</td>\n",
              "    </tr>\n",
              "    <tr>\n",
              "      <th>transactionAmount</th>\n",
              "      <td>0.000000</td>\n",
              "    </tr>\n",
              "    <tr>\n",
              "      <th>merchantName</th>\n",
              "      <td>0.000000</td>\n",
              "    </tr>\n",
              "    <tr>\n",
              "      <th>acqCountry</th>\n",
              "      <td>0.580139</td>\n",
              "    </tr>\n",
              "    <tr>\n",
              "      <th>merchantCountryCode</th>\n",
              "      <td>0.092069</td>\n",
              "    </tr>\n",
              "    <tr>\n",
              "      <th>posEntryMode</th>\n",
              "      <td>0.515538</td>\n",
              "    </tr>\n",
              "    <tr>\n",
              "      <th>posConditionCode</th>\n",
              "      <td>0.052012</td>\n",
              "    </tr>\n",
              "    <tr>\n",
              "      <th>merchantCategoryCode</th>\n",
              "      <td>0.000000</td>\n",
              "    </tr>\n",
              "    <tr>\n",
              "      <th>currentExpDate</th>\n",
              "      <td>0.000000</td>\n",
              "    </tr>\n",
              "    <tr>\n",
              "      <th>accountOpenDate</th>\n",
              "      <td>0.000000</td>\n",
              "    </tr>\n",
              "    <tr>\n",
              "      <th>dateOfLastAddressChange</th>\n",
              "      <td>0.000000</td>\n",
              "    </tr>\n",
              "    <tr>\n",
              "      <th>cardCVV</th>\n",
              "      <td>0.000000</td>\n",
              "    </tr>\n",
              "    <tr>\n",
              "      <th>enteredCVV</th>\n",
              "      <td>0.000000</td>\n",
              "    </tr>\n",
              "    <tr>\n",
              "      <th>cardLast4Digits</th>\n",
              "      <td>0.000000</td>\n",
              "    </tr>\n",
              "    <tr>\n",
              "      <th>transactionType</th>\n",
              "      <td>0.088763</td>\n",
              "    </tr>\n",
              "    <tr>\n",
              "      <th>echoBuffer</th>\n",
              "      <td>100.000000</td>\n",
              "    </tr>\n",
              "    <tr>\n",
              "      <th>currentBalance</th>\n",
              "      <td>0.000000</td>\n",
              "    </tr>\n",
              "    <tr>\n",
              "      <th>merchantCity</th>\n",
              "      <td>100.000000</td>\n",
              "    </tr>\n",
              "    <tr>\n",
              "      <th>merchantState</th>\n",
              "      <td>100.000000</td>\n",
              "    </tr>\n",
              "    <tr>\n",
              "      <th>merchantZip</th>\n",
              "      <td>100.000000</td>\n",
              "    </tr>\n",
              "    <tr>\n",
              "      <th>cardPresent</th>\n",
              "      <td>0.000000</td>\n",
              "    </tr>\n",
              "    <tr>\n",
              "      <th>posOnPremises</th>\n",
              "      <td>100.000000</td>\n",
              "    </tr>\n",
              "    <tr>\n",
              "      <th>recurringAuthInd</th>\n",
              "      <td>100.000000</td>\n",
              "    </tr>\n",
              "    <tr>\n",
              "      <th>expirationDateKeyInMatch</th>\n",
              "      <td>0.000000</td>\n",
              "    </tr>\n",
              "    <tr>\n",
              "      <th>isFraud</th>\n",
              "      <td>0.000000</td>\n",
              "    </tr>\n",
              "  </tbody>\n",
              "</table>\n",
              "</div>\n",
              "      <button class=\"colab-df-convert\" onclick=\"convertToInteractive('df-343de3ca-0149-446f-82a5-092193643918')\"\n",
              "              title=\"Convert this dataframe to an interactive table.\"\n",
              "              style=\"display:none;\">\n",
              "        \n",
              "  <svg xmlns=\"http://www.w3.org/2000/svg\" height=\"24px\"viewBox=\"0 0 24 24\"\n",
              "       width=\"24px\">\n",
              "    <path d=\"M0 0h24v24H0V0z\" fill=\"none\"/>\n",
              "    <path d=\"M18.56 5.44l.94 2.06.94-2.06 2.06-.94-2.06-.94-.94-2.06-.94 2.06-2.06.94zm-11 1L8.5 8.5l.94-2.06 2.06-.94-2.06-.94L8.5 2.5l-.94 2.06-2.06.94zm10 10l.94 2.06.94-2.06 2.06-.94-2.06-.94-.94-2.06-.94 2.06-2.06.94z\"/><path d=\"M17.41 7.96l-1.37-1.37c-.4-.4-.92-.59-1.43-.59-.52 0-1.04.2-1.43.59L10.3 9.45l-7.72 7.72c-.78.78-.78 2.05 0 2.83L4 21.41c.39.39.9.59 1.41.59.51 0 1.02-.2 1.41-.59l7.78-7.78 2.81-2.81c.8-.78.8-2.07 0-2.86zM5.41 20L4 18.59l7.72-7.72 1.47 1.35L5.41 20z\"/>\n",
              "  </svg>\n",
              "      </button>\n",
              "      \n",
              "  <style>\n",
              "    .colab-df-container {\n",
              "      display:flex;\n",
              "      flex-wrap:wrap;\n",
              "      gap: 12px;\n",
              "    }\n",
              "\n",
              "    .colab-df-convert {\n",
              "      background-color: #E8F0FE;\n",
              "      border: none;\n",
              "      border-radius: 50%;\n",
              "      cursor: pointer;\n",
              "      display: none;\n",
              "      fill: #1967D2;\n",
              "      height: 32px;\n",
              "      padding: 0 0 0 0;\n",
              "      width: 32px;\n",
              "    }\n",
              "\n",
              "    .colab-df-convert:hover {\n",
              "      background-color: #E2EBFA;\n",
              "      box-shadow: 0px 1px 2px rgba(60, 64, 67, 0.3), 0px 1px 3px 1px rgba(60, 64, 67, 0.15);\n",
              "      fill: #174EA6;\n",
              "    }\n",
              "\n",
              "    [theme=dark] .colab-df-convert {\n",
              "      background-color: #3B4455;\n",
              "      fill: #D2E3FC;\n",
              "    }\n",
              "\n",
              "    [theme=dark] .colab-df-convert:hover {\n",
              "      background-color: #434B5C;\n",
              "      box-shadow: 0px 1px 3px 1px rgba(0, 0, 0, 0.15);\n",
              "      filter: drop-shadow(0px 1px 2px rgba(0, 0, 0, 0.3));\n",
              "      fill: #FFFFFF;\n",
              "    }\n",
              "  </style>\n",
              "\n",
              "      <script>\n",
              "        const buttonEl =\n",
              "          document.querySelector('#df-343de3ca-0149-446f-82a5-092193643918 button.colab-df-convert');\n",
              "        buttonEl.style.display =\n",
              "          google.colab.kernel.accessAllowed ? 'block' : 'none';\n",
              "\n",
              "        async function convertToInteractive(key) {\n",
              "          const element = document.querySelector('#df-343de3ca-0149-446f-82a5-092193643918');\n",
              "          const dataTable =\n",
              "            await google.colab.kernel.invokeFunction('convertToInteractive',\n",
              "                                                     [key], {});\n",
              "          if (!dataTable) return;\n",
              "\n",
              "          const docLinkHtml = 'Like what you see? Visit the ' +\n",
              "            '<a target=\"_blank\" href=https://colab.research.google.com/notebooks/data_table.ipynb>data table notebook</a>'\n",
              "            + ' to learn more about interactive tables.';\n",
              "          element.innerHTML = '';\n",
              "          dataTable['output_type'] = 'display_data';\n",
              "          await google.colab.output.renderOutput(dataTable, element);\n",
              "          const docLink = document.createElement('div');\n",
              "          docLink.innerHTML = docLinkHtml;\n",
              "          element.appendChild(docLink);\n",
              "        }\n",
              "      </script>\n",
              "    </div>\n",
              "  </div>\n",
              "  "
            ]
          },
          "metadata": {},
          "execution_count": 56
        }
      ]
    },
    {
      "cell_type": "markdown",
      "source": [
        "Removing Fields 'echoBuffer', 'merchantCity', 'merchantZip', 'posOnPremises' and 'recurringAuthInd' as every value in these fields is null"
      ],
      "metadata": {
        "id": "ITLF3L5avdOy"
      }
    },
    {
      "cell_type": "code",
      "source": [
        "df = df.drop(['echoBuffer', 'merchantCity', 'merchantState', 'merchantZip', 'posOnPremises', 'recurringAuthInd'], axis=1)"
      ],
      "metadata": {
        "id": "0vkATgmfvcf3"
      },
      "execution_count": null,
      "outputs": []
    },
    {
      "cell_type": "markdown",
      "source": [
        "Finding number of unique values in some appropriate fields\n",
        "\n"
      ],
      "metadata": {
        "id": "IFZ_bn2YzGM_"
      }
    },
    {
      "cell_type": "code",
      "source": [
        "fields = []\n",
        "unique_values = []\n",
        "unappropriate_columns = ['creditLimit', 'availableMoney', 'transactionDateTime', 'transactionAmount',\n",
        "                      'accountOpenDate', 'dateOfLastAddressChange', 'cardCVV', 'enteredCVV',\n",
        "                      'cardLast4Digits', 'currentBalance']\n",
        "for col in df:\n",
        "  if col not in unappropriate_columns:\n",
        "    fields.append(col)\n",
        "    unique_values.append(len(df[col].unique()))\n",
        "\n",
        "unique_values_data = pd.DataFrame(list(zip(fields, unique_values)),columns =['Fields', 'Number Of Unique Values'])\n",
        "unique_values_data"
      ],
      "metadata": {
        "colab": {
          "base_uri": "https://localhost:8080/",
          "height": 457
        },
        "id": "ELwHqpZ5ppbM",
        "outputId": "13fc6c35-7277-4fa1-d72c-3eb3b91449b8"
      },
      "execution_count": null,
      "outputs": [
        {
          "output_type": "execute_result",
          "data": {
            "text/plain": [
              "                      Fields  Number Of Unique Values\n",
              "0              accountNumber                     5000\n",
              "1                 customerId                     5000\n",
              "2               merchantName                     2490\n",
              "3                 acqCountry                        5\n",
              "4        merchantCountryCode                        5\n",
              "5               posEntryMode                        6\n",
              "6           posConditionCode                        4\n",
              "7       merchantCategoryCode                       19\n",
              "8             currentExpDate                      165\n",
              "9            transactionType                        4\n",
              "10               cardPresent                        2\n",
              "11  expirationDateKeyInMatch                        2\n",
              "12                   isFraud                        2"
            ],
            "text/html": [
              "\n",
              "  <div id=\"df-b10ce94d-54f9-4b69-b481-1df77b062587\">\n",
              "    <div class=\"colab-df-container\">\n",
              "      <div>\n",
              "<style scoped>\n",
              "    .dataframe tbody tr th:only-of-type {\n",
              "        vertical-align: middle;\n",
              "    }\n",
              "\n",
              "    .dataframe tbody tr th {\n",
              "        vertical-align: top;\n",
              "    }\n",
              "\n",
              "    .dataframe thead th {\n",
              "        text-align: right;\n",
              "    }\n",
              "</style>\n",
              "<table border=\"1\" class=\"dataframe\">\n",
              "  <thead>\n",
              "    <tr style=\"text-align: right;\">\n",
              "      <th></th>\n",
              "      <th>Fields</th>\n",
              "      <th>Number Of Unique Values</th>\n",
              "    </tr>\n",
              "  </thead>\n",
              "  <tbody>\n",
              "    <tr>\n",
              "      <th>0</th>\n",
              "      <td>accountNumber</td>\n",
              "      <td>5000</td>\n",
              "    </tr>\n",
              "    <tr>\n",
              "      <th>1</th>\n",
              "      <td>customerId</td>\n",
              "      <td>5000</td>\n",
              "    </tr>\n",
              "    <tr>\n",
              "      <th>2</th>\n",
              "      <td>merchantName</td>\n",
              "      <td>2490</td>\n",
              "    </tr>\n",
              "    <tr>\n",
              "      <th>3</th>\n",
              "      <td>acqCountry</td>\n",
              "      <td>5</td>\n",
              "    </tr>\n",
              "    <tr>\n",
              "      <th>4</th>\n",
              "      <td>merchantCountryCode</td>\n",
              "      <td>5</td>\n",
              "    </tr>\n",
              "    <tr>\n",
              "      <th>5</th>\n",
              "      <td>posEntryMode</td>\n",
              "      <td>6</td>\n",
              "    </tr>\n",
              "    <tr>\n",
              "      <th>6</th>\n",
              "      <td>posConditionCode</td>\n",
              "      <td>4</td>\n",
              "    </tr>\n",
              "    <tr>\n",
              "      <th>7</th>\n",
              "      <td>merchantCategoryCode</td>\n",
              "      <td>19</td>\n",
              "    </tr>\n",
              "    <tr>\n",
              "      <th>8</th>\n",
              "      <td>currentExpDate</td>\n",
              "      <td>165</td>\n",
              "    </tr>\n",
              "    <tr>\n",
              "      <th>9</th>\n",
              "      <td>transactionType</td>\n",
              "      <td>4</td>\n",
              "    </tr>\n",
              "    <tr>\n",
              "      <th>10</th>\n",
              "      <td>cardPresent</td>\n",
              "      <td>2</td>\n",
              "    </tr>\n",
              "    <tr>\n",
              "      <th>11</th>\n",
              "      <td>expirationDateKeyInMatch</td>\n",
              "      <td>2</td>\n",
              "    </tr>\n",
              "    <tr>\n",
              "      <th>12</th>\n",
              "      <td>isFraud</td>\n",
              "      <td>2</td>\n",
              "    </tr>\n",
              "  </tbody>\n",
              "</table>\n",
              "</div>\n",
              "      <button class=\"colab-df-convert\" onclick=\"convertToInteractive('df-b10ce94d-54f9-4b69-b481-1df77b062587')\"\n",
              "              title=\"Convert this dataframe to an interactive table.\"\n",
              "              style=\"display:none;\">\n",
              "        \n",
              "  <svg xmlns=\"http://www.w3.org/2000/svg\" height=\"24px\"viewBox=\"0 0 24 24\"\n",
              "       width=\"24px\">\n",
              "    <path d=\"M0 0h24v24H0V0z\" fill=\"none\"/>\n",
              "    <path d=\"M18.56 5.44l.94 2.06.94-2.06 2.06-.94-2.06-.94-.94-2.06-.94 2.06-2.06.94zm-11 1L8.5 8.5l.94-2.06 2.06-.94-2.06-.94L8.5 2.5l-.94 2.06-2.06.94zm10 10l.94 2.06.94-2.06 2.06-.94-2.06-.94-.94-2.06-.94 2.06-2.06.94z\"/><path d=\"M17.41 7.96l-1.37-1.37c-.4-.4-.92-.59-1.43-.59-.52 0-1.04.2-1.43.59L10.3 9.45l-7.72 7.72c-.78.78-.78 2.05 0 2.83L4 21.41c.39.39.9.59 1.41.59.51 0 1.02-.2 1.41-.59l7.78-7.78 2.81-2.81c.8-.78.8-2.07 0-2.86zM5.41 20L4 18.59l7.72-7.72 1.47 1.35L5.41 20z\"/>\n",
              "  </svg>\n",
              "      </button>\n",
              "      \n",
              "  <style>\n",
              "    .colab-df-container {\n",
              "      display:flex;\n",
              "      flex-wrap:wrap;\n",
              "      gap: 12px;\n",
              "    }\n",
              "\n",
              "    .colab-df-convert {\n",
              "      background-color: #E8F0FE;\n",
              "      border: none;\n",
              "      border-radius: 50%;\n",
              "      cursor: pointer;\n",
              "      display: none;\n",
              "      fill: #1967D2;\n",
              "      height: 32px;\n",
              "      padding: 0 0 0 0;\n",
              "      width: 32px;\n",
              "    }\n",
              "\n",
              "    .colab-df-convert:hover {\n",
              "      background-color: #E2EBFA;\n",
              "      box-shadow: 0px 1px 2px rgba(60, 64, 67, 0.3), 0px 1px 3px 1px rgba(60, 64, 67, 0.15);\n",
              "      fill: #174EA6;\n",
              "    }\n",
              "\n",
              "    [theme=dark] .colab-df-convert {\n",
              "      background-color: #3B4455;\n",
              "      fill: #D2E3FC;\n",
              "    }\n",
              "\n",
              "    [theme=dark] .colab-df-convert:hover {\n",
              "      background-color: #434B5C;\n",
              "      box-shadow: 0px 1px 3px 1px rgba(0, 0, 0, 0.15);\n",
              "      filter: drop-shadow(0px 1px 2px rgba(0, 0, 0, 0.3));\n",
              "      fill: #FFFFFF;\n",
              "    }\n",
              "  </style>\n",
              "\n",
              "      <script>\n",
              "        const buttonEl =\n",
              "          document.querySelector('#df-b10ce94d-54f9-4b69-b481-1df77b062587 button.colab-df-convert');\n",
              "        buttonEl.style.display =\n",
              "          google.colab.kernel.accessAllowed ? 'block' : 'none';\n",
              "\n",
              "        async function convertToInteractive(key) {\n",
              "          const element = document.querySelector('#df-b10ce94d-54f9-4b69-b481-1df77b062587');\n",
              "          const dataTable =\n",
              "            await google.colab.kernel.invokeFunction('convertToInteractive',\n",
              "                                                     [key], {});\n",
              "          if (!dataTable) return;\n",
              "\n",
              "          const docLinkHtml = 'Like what you see? Visit the ' +\n",
              "            '<a target=\"_blank\" href=https://colab.research.google.com/notebooks/data_table.ipynb>data table notebook</a>'\n",
              "            + ' to learn more about interactive tables.';\n",
              "          element.innerHTML = '';\n",
              "          dataTable['output_type'] = 'display_data';\n",
              "          await google.colab.output.renderOutput(dataTable, element);\n",
              "          const docLink = document.createElement('div');\n",
              "          docLink.innerHTML = docLinkHtml;\n",
              "          element.appendChild(docLink);\n",
              "        }\n",
              "      </script>\n",
              "    </div>\n",
              "  </div>\n",
              "  "
            ]
          },
          "metadata": {},
          "execution_count": 65
        }
      ]
    },
    {
      "cell_type": "markdown",
      "source": [
        "#2. Plot"
      ],
      "metadata": {
        "id": "TCvkSc5wdIQ8"
      }
    },
    {
      "cell_type": "markdown",
      "source": [
        "Finding processed amounts for each type of transaction"
      ],
      "metadata": {
        "id": "O1QOG1LKejyM"
      }
    },
    {
      "cell_type": "code",
      "source": [
        "df_txns=df.groupby('transactionType')['transactionAmount'].sum()\n",
        "df_txns = dict(df_txns)\n",
        "plt.bar(df_txns.keys(),df_txns.values())"
      ],
      "metadata": {
        "colab": {
          "base_uri": "https://localhost:8080/",
          "height": 295
        },
        "id": "OgHaj0fXuDXQ",
        "outputId": "aa17120d-e179-4a12-cd31-b324c5da01be"
      },
      "execution_count": null,
      "outputs": [
        {
          "output_type": "execute_result",
          "data": {
            "text/plain": [
              "<BarContainer object of 3 artists>"
            ]
          },
          "metadata": {},
          "execution_count": 67
        },
        {
          "output_type": "display_data",
          "data": {
            "text/plain": [
              "<Figure size 432x288 with 1 Axes>"
            ],
            "image/png": "[encoded data removed]"
          },
          "metadata": {
            "needs_background": "light"
          }
        }
      ]
    },
    {
      "cell_type": "code",
      "source": [
        "df_txns"
      ],
      "metadata": {
        "colab": {
          "base_uri": "https://localhost:8080/"
        },
        "id": "tmBoSlQO6GtQ",
        "outputId": "a129dac0-b3a6-48b1-f557-9180bb703360"
      },
      "execution_count": null,
      "outputs": [
        {
          "output_type": "execute_result",
          "data": {
            "text/plain": [
              "{'ADDRESS_VERIFICATION': 0.0, 'PURCHASE': 104790305.25, 'REVERSAL': 2821792.5}"
            ]
          },
          "metadata": {},
          "execution_count": 65
        }
      ]
    },
    {
      "cell_type": "markdown",
      "source": [
        "It can be inferred from the data and plot above that the total sum of amounts processed by 'ADDRESS_VERIFICATION' type of transactions is zero and the sum of amount processed is maximum for 'PURCHASE' type of transactions"
      ],
      "metadata": {
        "id": "0oGmHy4tlkeA"
      }
    },
    {
      "cell_type": "markdown",
      "source": [
        "#3. Data Wrangling - Duplicate Transactions"
      ],
      "metadata": {
        "id": "NJhS4j2XnO9z"
      }
    },
    {
      "cell_type": "markdown",
      "source": [
        "\n",
        "\n",
        "*   Finding Reversal Transactions\n",
        "\n"
      ],
      "metadata": {
        "id": "MrDJPAkwooeF"
      }
    },
    {
      "cell_type": "code",
      "source": [
        "data_reverse_txns = df[df['transactionType']=='REVERSAL']\n",
        "total_amount = data_reverse_txns['transactionAmount'].sum()\n",
        "rows, cols = data_reverse_txns.shape\n",
        "print(\"There are total {} reverse type transactions which sum upto to ${}\".format(rows, total_amount))"
      ],
      "metadata": {
        "colab": {
          "base_uri": "https://localhost:8080/"
        },
        "id": "rXB3LDWF6N4o",
        "outputId": "be2f5557-3199-405f-99ae-844a75306ee3"
      },
      "execution_count": null,
      "outputs": [
        {
          "output_type": "stream",
          "name": "stdout",
          "text": [
            "There are total 20303 reverse type transactions which sum upto to $2821792.5\n"
          ]
        }
      ]
    },
    {
      "cell_type": "markdown",
      "source": [
        "*   Finding multi-swipe transactions"
      ],
      "metadata": {
        "id": "eJf2Gdl9xaOT"
      }
    },
    {
      "cell_type": "code",
      "source": [
        "data_multiswipe = df[df['transactionType']!='REVERSAL']"
      ],
      "metadata": {
        "id": "wPwTfU44rIqm"
      },
      "execution_count": null,
      "outputs": []
    },
    {
      "cell_type": "code",
      "source": [
        "unique_customers = data_multiswipe['accountNumber'].unique()"
      ],
      "metadata": {
        "id": "8mrIzPcbrUyJ"
      },
      "execution_count": null,
      "outputs": []
    },
    {
      "cell_type": "code",
      "source": [
        "records=0\n",
        "total_amount_sum=0\n",
        "for customer in unique_customers:\n",
        "  customer_txns = data_multiswipe[data_multiswipe['customerId']==customer]\n",
        "  customer_txns['Date'] = customer_txns['transactionDateTime'].apply(lambda x: x.split('T')[0])\n",
        "  customer_txns['Time/Hour'] = customer_txns['transactionDateTime'].apply(lambda x: (x.split('T')[1]).split(':')[0])\n",
        "  customer_txns = customer_txns[customer_txns.duplicated('Date', keep=False)]\n",
        "  for date in customer_txns['Date'].unique():\n",
        "    same_date_data = customer_txns[customer_txns['Date']==date]\n",
        "    same_date_data = same_date_data[same_date_data.duplicated('Time/Hour', keep=False)]\n",
        "    records=records+len(same_date_data)\n",
        "    total_amount_sum = total_amount_sum + same_date_data['transactionAmount'].sum()"
      ],
      "metadata": {
        "id": "giP9Yl9CySJ-"
      },
      "execution_count": null,
      "outputs": []
    },
    {
      "cell_type": "code",
      "source": [
        "print(\"There are total {} multi-swipe type transactions which sum upto to ${}\".format(records, total_amount_sum))"
      ],
      "metadata": {
        "colab": {
          "base_uri": "https://localhost:8080/"
        },
        "id": "MQFv90O6-MxE",
        "outputId": "edf64f71-9268-4b91-95a6-f96d4e793847"
      },
      "execution_count": null,
      "outputs": [
        {
          "output_type": "stream",
          "name": "stdout",
          "text": [
            "There are total 137962 multi-swipe type transactions which sum upto to $19981722.569999963\n"
          ]
        }
      ]
    },
    {
      "cell_type": "markdown",
      "source": [
        "It can be inferred that the average amount per transaction for both the Reversed and multi swipe transaction is very close to each other."
      ],
      "metadata": {
        "id": "OFM-SgYYXxZk"
      }
    },
    {
      "cell_type": "markdown",
      "source": [
        "#4. Model"
      ],
      "metadata": {
        "id": "Y3pJIhq-Y-9M"
      }
    },
    {
      "cell_type": "markdown",
      "source": [
        "Dropping null values as the percentage of null values for each column is less than 1 percent"
      ],
      "metadata": {
        "id": "KAnm_UGAaeA1"
      }
    },
    {
      "cell_type": "code",
      "source": [
        "df = df.dropna()"
      ],
      "metadata": {
        "id": "6OocRpPUZ6bc"
      },
      "execution_count": null,
      "outputs": []
    },
    {
      "cell_type": "markdown",
      "source": [
        "Finding and removing highly correlated features from the dataset"
      ],
      "metadata": {
        "id": "z4cf7rGVa29d"
      }
    },
    {
      "cell_type": "code",
      "source": [
        "sns.heatmap(df.corr())"
      ],
      "metadata": {
        "colab": {
          "base_uri": "https://localhost:8080/",
          "height": 409
        },
        "id": "1OyncKkp62sv",
        "outputId": "72518f7e-0ade-467e-de1f-6fa502878123"
      },
      "execution_count": null,
      "outputs": [
        {
          "output_type": "execute_result",
          "data": {
            "text/plain": [
              "<matplotlib.axes._subplots.AxesSubplot at 0x7ffa30838dd0>"
            ]
          },
          "metadata": {},
          "execution_count": 14
        },
        {
          "output_type": "display_data",
          "data": {
            "text/plain": [
              "<Figure size 432x288 with 2 Axes>"
            ],
            "image/png": "[encoded data removed]"
          },
          "metadata": {
            "needs_background": "light"
          }
        }
      ]
    },
    {
      "cell_type": "markdown",
      "source": [
        "Dropping Highly correlated and unappropriate features "
      ],
      "metadata": {
        "id": "hD-4FPJubBqM"
      }
    },
    {
      "cell_type": "code",
      "source": [
        "df = df.drop(['accountNumber', 'customerId', 'transactionDateTime', 'creditLimit', 'currentExpDate', 'accountOpenDate','dateOfLastAddressChange'], axis=1)"
      ],
      "metadata": {
        "id": "ydxmJGoAZQRq"
      },
      "execution_count": null,
      "outputs": []
    },
    {
      "cell_type": "markdown",
      "source": [
        "Converting all the categorical values to numeric"
      ],
      "metadata": {
        "id": "JbkaylGpFTgc"
      }
    },
    {
      "cell_type": "code",
      "source": [
        "df.dtypes"
      ],
      "metadata": {
        "colab": {
          "base_uri": "https://localhost:8080/"
        },
        "id": "fyfzv_QlZty2",
        "outputId": "11846cd9-b2bc-4a1c-81b8-96219433c442"
      },
      "execution_count": null,
      "outputs": [
        {
          "output_type": "execute_result",
          "data": {
            "text/plain": [
              "availableMoney              float64\n",
              "transactionAmount           float64\n",
              "merchantName                 object\n",
              "acqCountry                   object\n",
              "merchantCountryCode          object\n",
              "posEntryMode                 object\n",
              "posConditionCode             object\n",
              "merchantCategoryCode         object\n",
              "cardCVV                       int64\n",
              "enteredCVV                    int64\n",
              "cardLast4Digits               int64\n",
              "transactionType              object\n",
              "currentBalance              float64\n",
              "cardPresent                    bool\n",
              "expirationDateKeyInMatch       bool\n",
              "isFraud                        bool\n",
              "dtype: object"
            ]
          },
          "metadata": {},
          "execution_count": 16
        }
      ]
    },
    {
      "cell_type": "code",
      "source": [
        "len(df['merchantName'].unique())"
      ],
      "metadata": {
        "colab": {
          "base_uri": "https://localhost:8080/"
        },
        "id": "xvQmu_1AFIgp",
        "outputId": "53f8a0c6-2fd9-40c5-b5ff-8406211cbd61"
      },
      "execution_count": null,
      "outputs": [
        {
          "output_type": "execute_result",
          "data": {
            "text/plain": [
              "2489"
            ]
          },
          "metadata": {},
          "execution_count": 28
        }
      ]
    },
    {
      "cell_type": "code",
      "source": [
        "len(df['merchantCategoryCode'].unique())"
      ],
      "metadata": {
        "colab": {
          "base_uri": "https://localhost:8080/"
        },
        "id": "DKJIyDJtFvfr",
        "outputId": "c0290fa9-ecf7-405c-a011-852c2d64ce4e"
      },
      "execution_count": null,
      "outputs": [
        {
          "output_type": "execute_result",
          "data": {
            "text/plain": [
              "19"
            ]
          },
          "metadata": {},
          "execution_count": 29
        }
      ]
    },
    {
      "cell_type": "markdown",
      "source": [
        "Used Label Encoder to convert string values in fields 'merchantName' and 'merchantCategoryCode' to integers as the they have a large number of unique values, hence one-hot encoding or dummies will unnecessarily increase the dimensions of data to a great extent\n",
        "\n",
        "\n",
        "\n",
        " "
      ],
      "metadata": {
        "id": "cB8zPnnnT_7c"
      }
    },
    {
      "cell_type": "code",
      "source": [
        "le = LabelEncoder()\n",
        "df['nameMerchant'] = le.fit_transform(df['merchantName'])\n",
        "df['mcc'] = le.fit_transform(df['merchantCategoryCode'])\n",
        "country = pd.get_dummies(df['acqCountry'])\n",
        "merchant_country = pd.get_dummies(df['merchantCountryCode'])\n",
        "posentry = pd.get_dummies(df['posEntryMode'])\n",
        "poscond = pd.get_dummies(df['posConditionCode'])\n",
        "merchant_names = pd.get_dummies(df['transactionType'])\n",
        "\n",
        "df=pd.concat([df, country, merchant_country, posentry, poscond, merchant_names], axis=1)\n",
        "df=df.drop(['merchantName', 'merchantCategoryCode', 'acqCountry', 'merchantCountryCode', 'posEntryMode',\n",
        "                        'posConditionCode', 'transactionType'], axis=1)"
      ],
      "metadata": {
        "id": "LlPChDoWdhaR"
      },
      "execution_count": null,
      "outputs": []
    },
    {
      "cell_type": "code",
      "source": [
        "df['cardPresent'] = le.fit_transform(df['cardPresent'])\n",
        "df['expirationDateKeyInMatch'] = le.fit_transform(df['expirationDateKeyInMatch'])\n",
        "df['isFraud'] = le.fit_transform(df['isFraud'])"
      ],
      "metadata": {
        "id": "AvnRAvaDe_gm"
      },
      "execution_count": null,
      "outputs": []
    },
    {
      "cell_type": "code",
      "source": [
        "print(le.classes_)"
      ],
      "metadata": {
        "colab": {
          "base_uri": "https://localhost:8080/"
        },
        "id": "TW-FgW5BHk_j",
        "outputId": "2751fd48-6d75-4dcb-d521-206e5bfc064b"
      },
      "execution_count": null,
      "outputs": [
        {
          "output_type": "stream",
          "name": "stdout",
          "text": [
            "[False  True]\n"
          ]
        }
      ]
    },
    {
      "cell_type": "markdown",
      "source": [
        "The dataset is highly imbalanced as it contains 98 percent of the transactions which belongs to the class isFraud=False"
      ],
      "metadata": {
        "id": "cfwTeCjuU0fY"
      }
    },
    {
      "cell_type": "code",
      "source": [
        "df['isFraud'].value_counts()/len(df)*100"
      ],
      "metadata": {
        "colab": {
          "base_uri": "https://localhost:8080/"
        },
        "id": "E9RE3vQYMgVH",
        "outputId": "8cc398b3-62fb-4515-bb56-0ba28fc13596"
      },
      "execution_count": null,
      "outputs": [
        {
          "output_type": "execute_result",
          "data": {
            "text/plain": [
              "0    98.459316\n",
              "1     1.540684\n",
              "Name: isFraud, dtype: float64"
            ]
          },
          "metadata": {},
          "execution_count": 113
        }
      ]
    },
    {
      "cell_type": "markdown",
      "source": [
        "*   Here sampling techniques couldn't work as equalizing the number of samples in minority class to the majority class will require a huge number of fake sample generations which belong to the minority class and generating so many fake samples make model shift a lot from reality.\n",
        "*   Therefore equalizing the number of samples in the majority class with that of minority by chossing some random samples from the dataset belonging to the majority class\n",
        "\n"
      ],
      "metadata": {
        "id": "4pXrbgcjVSAh"
      }
    },
    {
      "cell_type": "code",
      "source": [
        "df_fraud = df[df['isFraud']==1]\n",
        "df_notfraud = df[df['isFraud']==0]\n",
        "df_notfraud = df.sample(n=11966)\n",
        "df_final = df_fraud.append(df_notfraud)"
      ],
      "metadata": {
        "id": "yXRgZ453MmxJ"
      },
      "execution_count": null,
      "outputs": []
    },
    {
      "cell_type": "code",
      "source": [
        "df_final['isFraud'].value_counts()"
      ],
      "metadata": {
        "colab": {
          "base_uri": "https://localhost:8080/"
        },
        "id": "dWgDNO7XNa7e",
        "outputId": "bb85bf55-9ee1-4533-c891-e439cecc0ca7"
      },
      "execution_count": null,
      "outputs": [
        {
          "output_type": "execute_result",
          "data": {
            "text/plain": [
              "1    12151\n",
              "0    11781\n",
              "Name: isFraud, dtype: int64"
            ]
          },
          "metadata": {},
          "execution_count": 53
        }
      ]
    },
    {
      "cell_type": "code",
      "source": [
        "x = df_final.drop(['isFraud'], axis=1)\n",
        "y = df_final['isFraud'].values"
      ],
      "metadata": {
        "id": "PiDbKdLzIRNJ"
      },
      "execution_count": null,
      "outputs": []
    },
    {
      "cell_type": "markdown",
      "source": [
        "Dividing the data into 70% training and 30% testing"
      ],
      "metadata": {
        "id": "f5wWymZNWl2u"
      }
    },
    {
      "cell_type": "code",
      "source": [
        "from sklearn.model_selection import train_test_split\n",
        "x_train, x_test, y_train, y_test = train_test_split(x, y, test_size=0.3, random_state=42)"
      ],
      "metadata": {
        "id": "TD5U0CQNIaZj"
      },
      "execution_count": null,
      "outputs": []
    },
    {
      "cell_type": "markdown",
      "source": [
        "Training the models\n",
        "\n",
        "\n",
        "1.   Random Forest Classifier\n",
        "\n",
        "\n",
        "\n"
      ],
      "metadata": {
        "id": "rY-C9iOnWwps"
      }
    },
    {
      "cell_type": "code",
      "source": [
        "rf_model=RandomForestClassifier(n_estimators = 20)\n",
        "rf_model.fit(x_train, y_train)"
      ],
      "metadata": {
        "colab": {
          "base_uri": "https://localhost:8080/"
        },
        "id": "uSIVso7VSOVU",
        "outputId": "ec0bbb1e-5afc-4c61-e543-945ea5cc2738"
      },
      "execution_count": null,
      "outputs": [
        {
          "output_type": "execute_result",
          "data": {
            "text/plain": [
              "RandomForestClassifier(n_estimators=20)"
            ]
          },
          "metadata": {},
          "execution_count": 110
        }
      ]
    },
    {
      "cell_type": "markdown",
      "source": [
        "\n",
        "2.   Logistic Regression Classifier\n",
        "\n"
      ],
      "metadata": {
        "id": "vc6N0FqqYccv"
      }
    },
    {
      "cell_type": "code",
      "source": [
        "lr_model=LogisticRegression()\n",
        "lr_model.fit(x_train, y_train)"
      ],
      "metadata": {
        "colab": {
          "base_uri": "https://localhost:8080/"
        },
        "id": "cfwaCQJyYMhl",
        "outputId": "575bc121-7f26-4cf0-a49b-1bf1867557dc"
      },
      "execution_count": null,
      "outputs": [
        {
          "output_type": "stream",
          "name": "stderr",
          "text": [
            "/usr/local/lib/python3.7/dist-packages/sklearn/linear_model/_logistic.py:818: ConvergenceWarning: lbfgs failed to converge (status=1):\n",
            "STOP: TOTAL NO. of ITERATIONS REACHED LIMIT.\n",
            "\n",
            "Increase the number of iterations (max_iter) or scale the data as shown in:\n",
            "    https://scikit-learn.org/stable/modules/preprocessing.html\n",
            "Please also refer to the documentation for alternative solver options:\n",
            "    https://scikit-learn.org/stable/modules/linear_model.html#logistic-regression\n",
            "  extra_warning_msg=_LOGISTIC_SOLVER_CONVERGENCE_MSG,\n"
          ]
        },
        {
          "output_type": "execute_result",
          "data": {
            "text/plain": [
              "LogisticRegression()"
            ]
          },
          "metadata": {},
          "execution_count": 116
        }
      ]
    },
    {
      "cell_type": "markdown",
      "source": [
        "Model Performance using Random Forest Classifier"
      ],
      "metadata": {
        "id": "eSL_5UAmYk3m"
      }
    },
    {
      "cell_type": "code",
      "source": [
        "y_pred=rf_model.predict(x_test)\n",
        "confusion_matrix(y_test, y_pred)"
      ],
      "metadata": {
        "colab": {
          "base_uri": "https://localhost:8080/"
        },
        "id": "rVQxh9hcLZfK",
        "outputId": "28ead70e-7cdb-4b9d-e734-bba4c0dc3af1"
      },
      "execution_count": null,
      "outputs": [
        {
          "output_type": "execute_result",
          "data": {
            "text/plain": [
              "array([[2638,  941],\n",
              "       [1017, 2584]])"
            ]
          },
          "metadata": {},
          "execution_count": 111
        }
      ]
    },
    {
      "cell_type": "code",
      "source": [
        "print(classification_report(y_test, y_pred))"
      ],
      "metadata": {
        "colab": {
          "base_uri": "https://localhost:8080/"
        },
        "id": "segamPheLuSO",
        "outputId": "ab007af8-7dd0-4611-e708-23895584bfd1"
      },
      "execution_count": null,
      "outputs": [
        {
          "output_type": "stream",
          "name": "stdout",
          "text": [
            "              precision    recall  f1-score   support\n",
            "\n",
            "           0       0.72      0.74      0.73      3579\n",
            "           1       0.73      0.72      0.73      3601\n",
            "\n",
            "    accuracy                           0.73      7180\n",
            "   macro avg       0.73      0.73      0.73      7180\n",
            "weighted avg       0.73      0.73      0.73      7180\n",
            "\n"
          ]
        }
      ]
    },
    {
      "cell_type": "markdown",
      "source": [
        "Model performance using Logistic Regression Classifier"
      ],
      "metadata": {
        "id": "-FhLMKp0Yytg"
      }
    },
    {
      "cell_type": "code",
      "source": [
        "y_pred=lr_model.predict(x_test)\n",
        "confusion_matrix(y_test, y_pred)"
      ],
      "metadata": {
        "colab": {
          "base_uri": "https://localhost:8080/"
        },
        "id": "Z1LU6x1NY5Iz",
        "outputId": "bd49fc07-74f8-4400-c97a-3a3b978a082c"
      },
      "execution_count": null,
      "outputs": [
        {
          "output_type": "execute_result",
          "data": {
            "text/plain": [
              "array([[2001, 1578],\n",
              "       [1239, 2362]])"
            ]
          },
          "metadata": {},
          "execution_count": 117
        }
      ]
    },
    {
      "cell_type": "code",
      "source": [
        "print(classification_report(y_test, y_pred))"
      ],
      "metadata": {
        "colab": {
          "base_uri": "https://localhost:8080/"
        },
        "id": "wrIAhqf0Y9WV",
        "outputId": "7947cf79-270c-4fd4-cb39-564928c05dd0"
      },
      "execution_count": null,
      "outputs": [
        {
          "output_type": "stream",
          "name": "stdout",
          "text": [
            "              precision    recall  f1-score   support\n",
            "\n",
            "           0       0.62      0.56      0.59      3579\n",
            "           1       0.60      0.66      0.63      3601\n",
            "\n",
            "    accuracy                           0.61      7180\n",
            "   macro avg       0.61      0.61      0.61      7180\n",
            "weighted avg       0.61      0.61      0.61      7180\n",
            "\n"
          ]
        }
      ]
    },
    {
      "cell_type": "markdown",
      "source": [
        "Further feature selection algorithms can be used to catch the most important features along with outlier removal and then the model can be trained using deep learning technique to improve the performance. Also Synthetic Minority Oversampling Technique can be used to remove imbalance in the dataset so as to increase the model's performance."
      ],
      "metadata": {
        "id": "jmj5GhOBW6kB"
      }
    },
    {
      "cell_type": "code",
      "source": [],
      "metadata": {
        "id": "28s8zbWbZSJW"
      },
      "execution_count": null,
      "outputs": []
    }
  ]
}